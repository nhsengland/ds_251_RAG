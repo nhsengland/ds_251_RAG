{
 "cells": [
  {
   "cell_type": "markdown",
   "metadata": {},
   "source": [
    "# RAG\n",
    "\n",
    "This work will look at the implementation of RAG within NHS England. This notebook contains a simple RAG pipeline which can work with both RAG turned on, and RAG turned off (relying only on the models innate \"knowledge\"). "
   ]
  },
  {
   "cell_type": "markdown",
   "metadata": {},
   "source": [
    "## Setup"
   ]
  },
  {
   "cell_type": "code",
   "execution_count": 5,
   "metadata": {},
   "outputs": [],
   "source": [
    "import glob\n",
    "import os\n",
    "import pandas as pd\n",
    "import random\n",
    "\n",
    "\n",
    "import toml\n",
    "from dotenv import load_dotenv\n",
    "\n",
    "import src.models as models\n",
    "\n",
    "from tqdm import tqdm\n",
    "\n",
    "config = toml.load(\"config.toml\")\n",
    "load_dotenv(\".secrets\")\n",
    "os.environ[\"ANTHROPIC_API_KEY\"] = os.getenv(\"anthropic_key\")\n",
    "\n",
    "if config['DEV_MODE']:\n",
    "    config['PERSIST_DIRECTORY'] += \"/dev\"\n"
   ]
  },
  {
   "cell_type": "markdown",
   "metadata": {},
   "source": [
    "First we initialise the RAG pipeline - this is an object which links the vector-store, and the LLM, so when you pass a query in it get passed back into the database, and then returns the response.\n",
    "\n",
    "There are also methods for adding documents to the database."
   ]
  },
  {
   "cell_type": "code",
   "execution_count": 6,
   "metadata": {},
   "outputs": [
    {
     "name": "stderr",
     "output_type": "stream",
     "text": [
      "c:\\Users\\Faaiz\\Documents\\GitHub\\ds_251_RAG\\.venv\\Lib\\site-packages\\langchain_community\\llms\\anthropic.py:180: UserWarning: This Anthropic LLM is deprecated. Please use `from langchain_community.chat_models import ChatAnthropic` instead\n",
      "  warnings.warn(\n"
     ]
    }
   ],
   "source": [
    "rag_pipeline = models.RagPipeline(config['EMBEDDING_MODEL'], config['PERSIST_DIRECTORY'])"
   ]
  },
  {
   "cell_type": "markdown",
   "metadata": {},
   "source": [
    "need to fill the database if it's empty (this might take 5 mins or so the first time, unless you've got a nice graphics card!)"
   ]
  },
  {
   "cell_type": "code",
   "execution_count": 7,
   "metadata": {},
   "outputs": [],
   "source": [
    "# Add documents if there are non - if in DEV mode, don't add any more (if it's not empty)\n",
    "if len(rag_pipeline.vectorstore.get()['documents']) == 0 or (not config['DEV_MODE']):\n",
    "    rag_pipeline.load_documents()  "
   ]
  },
  {
   "cell_type": "markdown",
   "metadata": {},
   "source": [
    "## Generating Response from Cogstack Questions"
   ]
  },
  {
   "cell_type": "markdown",
   "metadata": {},
   "source": [
    "<h3> Load in Cogstack QA from Github Repo </h3>\n",
    "\n",
    "link to cogstack QA data \"https://raw.githubusercontent.com/CogStack/OpenGPT/main/data/nhs_uk_full/prepared_generated_data_for_nhs_uk_qa.csv\""
   ]
  },
  {
   "cell_type": "code",
   "execution_count": 76,
   "metadata": {},
   "outputs": [],
   "source": [
    "#load processed questions and answers\n",
    "cogstack_qa = pd.read_csv('src/model_eval/cogstack_qa_data_process.csv')\n",
    "\n",
    "#select a random sample question\n",
    "sample_qa = cogstack_qa.sample(n = 1, random_state = 999)\n"
   ]
  },
  {
   "cell_type": "code",
   "execution_count": 77,
   "metadata": {},
   "outputs": [
    {
     "name": "stdout",
     "output_type": "stream",
     "text": [
      "Question: What can I do if someone with epilepsy has a seizure while in a wheelchair?\n",
      "\n",
      "\n",
      "Answer: If the person is in a wheelchair during a seizure, put the brakes on and leave any seatbelt or harness on. Support them gently and cushion their head, but do not try to move them.\n",
      "\n",
      "\n",
      "Reference: https://www.nhs.uk/conditions/what-to-do-if-someone-has-a-seizure-fit/\n"
     ]
    }
   ],
   "source": [
    "#print out the question, answer and reference form cogstack\n",
    "print('Question: {}'.format(sample_qa['question'].values[0]))\n",
    "print('\\n')\n",
    "#print out the question, answer and reference form cogstack\n",
    "print('Answer: {}'.format(sample_qa['answer'].values[0]))\n",
    "print('\\n')\n",
    "print('Reference: {}'.format(sample_qa['reference'].values[0]))"
   ]
  },
  {
   "cell_type": "markdown",
   "metadata": {},
   "source": [
    "<h3>Generate a response with the LLM with RAG turned off</h3>"
   ]
  },
  {
   "cell_type": "code",
   "execution_count": 78,
   "metadata": {},
   "outputs": [
    {
     "data": {
      "text/plain": [
       "'Given the following extracted parts of a long document and a question, create a final answer with references (\"SOURCES\"). If you don\\'t know the answer, just say that you don\\'t know. Don\\'t try to make up an answer. ALWAYS return a \"SOURCES\" part in your answer.\\n\\nExample 1: \"**RAP** is to be the foundation of analyst training. SOURCES: (goldacre_review.txt)\"\\nExample 2: \"Open source code is a good idea because:\\n* it\\'s cheap (goldacre_review.txt)\\n* it\\'s easy for people to access and use (open_source_guidlines.txt)\\n* it\\'s easy to share (goldacre_review.txt)\\n\\nSOURCES: (goldacre_review.txt, open_source_guidlines.txt)\"\\n\\nQUESTION: {question}\\n=========\\n{docs}\\n=========\\nFINAL ANSWER:'"
      ]
     },
     "execution_count": 78,
     "metadata": {},
     "output_type": "execute_result"
    }
   ],
   "source": [
    "#here is the prompt given to the llm...\n",
    "\"\"\"Given the following extracted parts of a long document and a question, create a final answer with references (\"SOURCES\"). \\\n",
    "If you don't know the answer, just say that you don't know. Don't try to make up an answer. \\\n",
    "ALWAYS return a \"SOURCES\" part in your answer.\n",
    "\n",
    "Example 1: \"**RAP** is to be the foundation of analyst training. SOURCES: (goldacre_review.txt)\"\n",
    "Example 2: \"Open source code is a good idea because:\n",
    "* it's cheap (goldacre_review.txt)\n",
    "* it's easy for people to access and use (open_source_guidlines.txt)\n",
    "* it's easy to share (goldacre_review.txt)\n",
    "\n",
    "SOURCES: (goldacre_review.txt, open_source_guidlines.txt)\"\n",
    "\n",
    "QUESTION: {question}\n",
    "=========\n",
    "{docs}\n",
    "=========\n",
    "FINAL ANSWER:\"\"\""
   ]
  },
  {
   "cell_type": "code",
   "execution_count": 79,
   "metadata": {},
   "outputs": [
    {
     "name": "stdout",
     "output_type": "stream",
     "text": [
      "\n",
      "- Stay calm and track how long the seizure lasts. Gently roll the person to the side if possible to keep their airway open, or move them off the wheelchair onto the floor if needed. Don't restrain them or put anything in their mouth.\n",
      "\n",
      "- Cushion their head and loosen any tight clothing or restraints. Remove glasses/hats if possible. Clear any hard or sharp objects away.\n",
      "\n",
      "- Let the seizure run its course. Speak calmly and reassure them. Don't offer food or drink until they are fully alert. \n",
      "\n",
      "- Call for emergency medical help if the seizure lasts more than 5 minutes, repeats without full recovery, or if injury occurs. Stay with the person until help arrives.\n",
      "\n",
      "- Be prepared to provide info about the seizure and medical history, if known. Record details like duration to inform medical staff.\n",
      "\n",
      "The main goal is keeping them safe and comfortable until the seizure ends and medical care can be provided if needed. Staying calm, tracking duration, clearing space, and not restraining them are key things caregivers can do. Let me know if you have any other questions!\n"
     ]
    }
   ],
   "source": [
    "question = sample_qa['question'].values[0]\n",
    "\n",
    "result_rag_off = rag_pipeline.answer_question(question, rag=False)\n",
    "\n",
    "print(result_rag_off)"
   ]
  },
  {
   "cell_type": "markdown",
   "metadata": {},
   "source": [
    "Now we will run with  **RAG** turned on. You'll see it spits out a bunch of stuff, as it was set to be verbose - namely, it gives back the completed prompt it submitted to the LLM, followed by the answer - you can see the chunks of documents it found."
   ]
  },
  {
   "cell_type": "code",
   "execution_count": 81,
   "metadata": {},
   "outputs": [
    {
     "name": "stdout",
     "output_type": "stream",
     "text": [
      "\n",
      "\n",
      "\u001b[1m> Entering new StuffDocumentsChain chain...\u001b[0m\n",
      "\n",
      "\n",
      "\u001b[1m> Entering new LLMChain chain...\u001b[0m\n",
      "Prompt after formatting:\n",
      "\u001b[32;1m\u001b[1;3mYou are a helpful assistant that helps people with their questions. You are not a replacement for human judgement, but you can help humansmake more informed decisions. If you are asked a question you cannot answer based on your following instructions, you should say so.Be concise and professional in your responses.\n",
      "\n",
      " Given the following extracted parts of a long document and a question, create a final answer with references (\"SOURCES\"). If you don't know the answer, just say that you don't know. Don't try to make up an answer. ALWAYS return a \"SOURCES\" part in your answer.\n",
      "\n",
      "Example 1: \"**RAP** is to be the foundation of analyst training. SOURCES: (goldacre_review.txt)\"\n",
      "Example 2: \"Open source code is a good idea because:\n",
      "* it's cheap (goldacre_review.txt)\n",
      "* it's easy for people to access and use (open_source_guidlines.txt)\n",
      "* it's easy to share (goldacre_review.txt)\n",
      "\n",
      "SOURCES: (goldacre_review.txt, open_source_guidlines.txt)\"\n",
      "\n",
      "QUESTION: What can I do if someone with epilepsy has a seizure while in a wheelchair?\n",
      "=========\n",
      "docs\\what-to-do-if-someone-has-a-seizure-fit.txt:\n",
      "<p><b>If you see someone having a seizure or fit, there are some simple things you can do to help.</b></p><p>It might be scary to witness, but do not panic.</p><p>If you're with someone having a seizure:</p><ul><li>only move them if they're in danger, such as near a busy road or hot cooker</li><li>cushion their head if they're on the ground</li><li>loosen any tight clothing around their neck, such as a collar or tie, to aid breathing</li><li>turn them on to their side after their convulsions stop – read more about the <a href=\"https://api.nhs.uk/conditions/first-aid/recovery-position/\">recovery position</a></li><li>stay with them and talk to them calmly until they recover</li><li>note the time the seizure starts and finishes</li></ul><p>If the person is in a wheelchair, put the brakes on and leave any seatbelt or harness on. Support them gently and cushion their head, but do not try to move them.</p><p>Do not put anything in their mouth, including your fingers. They should not have any\n",
      "\n",
      "docs\\what-to-do-if-someone-has-a-seizure-fit.txt:\n",
      "leave any seatbelt or harness on. Support them gently and cushion their head, but do not try to move them.</p><p>Do not put anything in their mouth, including your fingers. They should not have any food or drink until they have fully recovered.</p><p>Call 999 and ask for an ambulance if:</p><ul><li>it's the first time someone has had a seizure</li><li>the seizure lasts longer than is usual for them</li><li>the seizure lasts more than 5 minutes, if you do not know how long their seizures usually last</li><li>the person does not regain full consciousness, or has several seizures without regaining consciousness</li><li>the person is seriously injured during the seizure</li><li>the person has difficulty breathing after the seizure</li></ul><p>People with epilepsy do not always need an ambulance or to go to hospital every time they have a seizure.</p><p>They usually have a care plan agreed with doctors and their family or carers that says what to do when they have a seizure, such as giving\n",
      "\n",
      "docs\\what-to-do-if-someone-has-a-seizure-fit.txt:\n",
      "or to go to hospital every time they have a seizure.</p><p>They usually have a care plan agreed with doctors and their family or carers that says what to do when they have a seizure, such as giving emergency medicine. If you know what to do and have been trained then you can follow their care plan.</p><p>Some people with <a href=\"https://api.nhs.uk/conditions/epilepsy/\">epilepsy</a> wear a special bracelet or carry a card to let medical professionals and anyone witnessing a seizure know they have epilepsy.</p><p><a href=\"https://www.epilepsy.org.uk/info/first-aid/emergency-treatment-seizures-last-long-time\">Epilepsy Action has more information about seizures that last longer than 5 minutes</a>.</p><p>If you see someone having a seizure, you may notice things that could be useful for the person or their doctor to know:</p><ul><li>What were they doing before the seizure?</li><li>Did the person mention any unusual sensations, such as an odd smell or taste?</li><li>Did you notice any mood\n",
      "\n",
      "docs\\epilepsy.txt:\n",
      "of things around you.    <p>Seizures can affect people in different ways, depending on which part of the brain is involved.</p><p>Possible symptoms include:</p><ul><li>uncontrollable jerking and shaking, called a \"fit\"</li><li>losing awareness and staring blankly into space</li><li>becoming stiff</li><li>strange sensations, such as a \"rising\" feeling in the tummy, unusual smells or tastes, and a tingling feeling in your arms or legs</li><li>collapsing</li></ul><p>Sometimes you might pass out and not remember what happened.</p> Treatments for epilepsy The main treatment for epilepsy is medicine to stop seizures.    <p>Treatment can help most people with epilepsy have fewer seizures or stop having seizures completely.</p><p>Treatments include:</p><ul><li>medicines called anti-epileptic drugs – these are the main treatment</li><li>surgery to remove a small part of the brain that's causing the seizures</li><li>a procedure to put a small electrical device inside the body that can help\n",
      "\n",
      "docs\\epilepsy.txt:\n",
      "out what to do if someone has a seizure</a></p><p>Treatment can help most people with epilepsy have fewer seizures or stop having seizures completely.</p><p>Treatments include:</p><ul><li>medicines called anti-epileptic drugs – these are the main treatment</li><li>surgery to remove a small part of the brain that's causing the seizures</li><li>a procedure to put a small electrical device inside the body that can help control seizures</li><li>a special diet (ketogenic diet) that can help control seizures</li></ul><p>Some people need treatment for life. But you might be able to stop treatment if your seizures disappear over time.</p><p>Epilepsy is usually a lifelong condition, but most people with it are able to have normal lives if their seizures are well controlled.</p><p>Most children with epilepsy are able to go to a mainstream school, take part in most activities and sports, and get a job when they're older.</p><p>But you may have to think about your epilepsy before you do things\n",
      "\n",
      "docs\\febrile-seizures.txt:\n",
      "What to do if your child is having a febrile seizure If your child is having a febrile seizure, protect them from injury while you wait for help. When the seizure ends, put them in the recovery position.    <p>If your child is having a febrile seizure, it's important to keep them safe while you wait for medical help.</p> Do  <ul><li><p>check the time the seizure starts and ends</p></li><li><p>protect their head with your hands or something soft</p></li><li><p>remove any dangerous objects that are nearby</p></li><li><p>after the seizure ends, put your child in the <a href=\"https://api.nhs.uk/conditions/first-aid/recovery-position/\">recovery position</a> and make sure there is nothing in their mouth or throat that might affect their breathing</p></li></ul> Don't  <ul><li><p>do not move your child or try to hold them in place</p></li><li><p>do not put anything in your child's mouth</p></li><li><p>do not try to lower your child's temperature by undressing them or sponging them with cold\n",
      "\n",
      "docs\\what-to-do-if-someone-has-a-seizure-fit.txt:\n",
      "or their doctor to know:</p><ul><li>What were they doing before the seizure?</li><li>Did the person mention any unusual sensations, such as an odd smell or taste?</li><li>Did you notice any mood change, such as excitement, anxiety or anger?</li><li>What brought your attention to the seizure? Was it a noise, such as the person falling over, or body movements, such as their eyes rolling or head turning?</li><li>Did the seizure happen without warning?</li><li>Was there any loss of consciousness or altered awareness?</li><li>Did the person's colour change? For example, did they become paler than usual, flushed, blue or grey? If so, where – the face, lips or hands? On brown or black skin, changes in colour may be easier to see on the palms of the hands, soles of the feet, lips, gums and inside the eyelids.</li><li>Did any parts of their body stiffen, jerk or twitch? If so, which parts?</li><li>Did the person's breathing change?</li><li>Did they perform any actions, such as mumble, wander\n",
      "\n",
      "docs\\transient-ischaemic-attack-tia.txt:\n",
      "not be able to lift both arms and keep them raised because of weakness or numbness in 1 arm.</li><li><b>Speech</b> – their speech may be slurred or garbled, or the person may not be able to talk at all, despite appearing to be awake; they may also have problems understanding what you're saying to them.</li><li><b>Time</b> – it's time to call 999 immediately if you see any of these signs or symptoms.</li></ul><p>In the early stages of a TIA, it's not possible to tell whether you're having a TIA or a full stroke.</p><p>It's important to call 999 immediately and ask for an ambulance if you or someone else has symptoms of a TIA or stroke.</p><p>Even if the symptoms disappear while you're waiting for an ambulance to arrive, you still need to be assessed in hospital.</p><p>You should be referred to see a specialist within 24 hours of the onset of your symptoms.</p><p>A TIA is a warning sign that you may be at risk of having a full stroke in the near future, and an assessment can help\n",
      "\n",
      "docs\\cardiovascular-disease.txt:\n",
      "and possibly death.</p><p>A transient ischaemic attack (also called a TIA or \"mini-stroke\") is similar, but the blood flow to the brain is only temporarily disrupted.</p><p>The main symptoms of a stroke or TIA can be remembered with the word FAST, which stands for:</p><ul><li><b>Face</b> – the face may have drooped on one side, the person may be unable to smile, or their mouth or eye may have dropped.</li><li><b>Arms</b> – the person may not be able to lift both arms and keep them there because of arm weakness or numbness in one arm.</li><li><b>Speech</b> – their speech may be slurred or garbled, they may not be able to talk at all or they may not be able to understand what you are saying to them.</li><li><b>Time</b> – it's time to dial 999 immediately if you see any of these signs or symptoms.</li></ul><p>Read more about <a href=\"https://api.nhs.uk/conditions/stroke/\">stroke</a> and <a href=\"https://api.nhs.uk/conditions/transient-ischaemic-attack-tia/\">TIAs</a>.</p><h3>Peripheral\n",
      "\n",
      "docs\\what-to-do-if-someone-has-a-seizure-fit.txt:\n",
      "the eyelids.</li><li>Did any parts of their body stiffen, jerk or twitch? If so, which parts?</li><li>Did the person's breathing change?</li><li>Did they perform any actions, such as mumble, wander about or fumble with clothing?</li><li>How long did the seizure last?</li><li>Did the person lose control of their bladder or bowel?</li><li>Did they bite their tongue?</li><li>How were they after the seizure?</li><li>Did they need to sleep? If so, for how long?</li></ul><p>You can watch <a href=\"https://healthtalk.org/experiences/epilepsy/epileptic-seizures/\">healthtalk.org videos of people talking about having epileptic seizures</a>.</p><p>The <a href=\"https://www.rcpch.ac.uk/resources/safety-netting-information-following-first-seizure-without-fever-children-young-people\">Royal College of Paediatrics and Child Health (RCPCH) also has useful leaflets you can download about a first seizure without a fever in children and young people</a>.</p><p>If you have epilepsy, it can be helpful to\n",
      "=========\n",
      "FINAL ANSWER:\u001b[0m\n",
      "\n",
      "\u001b[1m> Finished chain.\u001b[0m\n",
      "\n",
      "\u001b[1m> Finished chain.\u001b[0m\n",
      "\n",
      "If someone with epilepsy has a seizure while in a wheelchair:\n",
      "\n",
      "- Put the brakes on the wheelchair and leave any seatbelt or harness on. \n",
      "- Support them gently and cushion their head, but do not try to move them out of the wheelchair.\n",
      "- Note the time the seizure starts and finishes. \n",
      "- Call 999 for an ambulance if the seizure lasts longer than 5 minutes or the person does not regain full consciousness.\n",
      "\n",
      "Most people with epilepsy have a care plan that says what to do when they have a seizure. If you know the person and have been trained on their care plan, you can follow it. Otherwise, call for medical help as needed.\n",
      "\n",
      "SOURCES: (what-to-do-if-someone-has-a-seizure-fit.txt, epilepsy.txt)\n"
     ]
    }
   ],
   "source": [
    "result_rag_on = rag_pipeline.answer_question(question, rag=True)\n",
    "\n",
    "print(result_rag_on)"
   ]
  },
  {
   "cell_type": "markdown",
   "metadata": {},
   "source": [
    "<h1>Evaluating the responses</h1>"
   ]
  },
  {
   "cell_type": "markdown",
   "metadata": {},
   "source": [
    "<h3>1. Using Langchain Scoring Evaluator with Default Criteria with LLM response with RAG turned off</h3>\n",
    "\n",
    "The scoring evaluator module in langchain uses a set of criteria to judge the response from the LLM and compare it with the reference as the ground truth.\n",
    "Some of the criteria considered in the evaluation include: conciseness, accuracy, harmfulness and correctness. The LLM (same model used for generation)\n",
    "outputs a score between 1 and 10. It also provides a short reasoning as to why the decision was made.\n"
   ]
  },
  {
   "cell_type": "code",
   "execution_count": 58,
   "metadata": {},
   "outputs": [],
   "source": [
    "#load in default langchain scoring evaluator\n",
    "from langchain.evaluation import load_evaluator\n",
    "\n",
    "evaluator = load_evaluator(\"labeled_score_string\", llm=rag_pipeline.llm)"
   ]
  },
  {
   "cell_type": "code",
   "execution_count": 59,
   "metadata": {},
   "outputs": [
    {
     "data": {
      "text/plain": [
       "'[Instruction]\\nPlease act as an impartial judge and evaluate the quality of the response provided by an AI assistant to the user question displayed below. {criteria}Begin your evaluation by providing a short explanation. Be as objective as possible. After providing your explanation, you must rate the response on a scale of 1 to 10 by strictly following this format: \"[[rating]]\", for example: \"Rating: [[5]]\".\\n\\n[Question]\\n{input}\\n\\n[The Start of Assistant\\'s Answer]\\n{prediction}\\n[The End of Assistant\\'s Answer]'"
      ]
     },
     "execution_count": 59,
     "metadata": {},
     "output_type": "execute_result"
    }
   ],
   "source": [
    "#The prompt given to the LLM for evaluation is as follows...\n",
    "'''[Instruction]\\nPlease act as an impartial judge \\\n",
    "and evaluate the quality of the response provided by an AI \\\n",
    "assistant to the user question displayed below. {criteria}Begin your evaluation \\\n",
    "by providing a short explanation. Be as objective as possible. \\\n",
    "After providing your explanation, you must rate the response on a scale of 1 to 10 \\\n",
    "by strictly following this format: \"[[rating]]\", for example: \"Rating: [[5]]\".\\n\\n\\\n",
    "[Question]\\n{input}\\n\\n[The Start of Assistant\\'s Answer]\\n{prediction}\\n\\\n",
    "[The End of Assistant\\'s Answer]'''"
   ]
  },
  {
   "cell_type": "code",
   "execution_count": 63,
   "metadata": {},
   "outputs": [
    {
     "name": "stdout",
     "output_type": "stream",
     "text": [
      "RAG off score: 8\n"
     ]
    }
   ],
   "source": [
    "# evaluate rag_off fresponse with the ground truth and record the score and reasoning\n",
    "\n",
    "eval_result_rag_off = evaluator.evaluate_strings(\n",
    "    prediction=result_rag_off,\n",
    "    reference=sample_qa['answer'].values[0],\n",
    "    input=question)\n",
    "\n",
    "print('RAG off score: {}'.format(eval_result_rag_off['score']))\n",
    "\n",
    "    "
   ]
  },
  {
   "cell_type": "code",
   "execution_count": 65,
   "metadata": {},
   "outputs": [
    {
     "name": "stdout",
     "output_type": "stream",
     "text": [
      "Reasoning: \n",
      "The response provides a helpful overview of some of the key targeted treatments that have been developed and shown promise for metastatic melanoma, including BRAF inhibitors, MEK inhibitors, immune checkpoint inhibitors, and combinations of targeted and immunotherapy approaches. It covers several of the major examples like vemurafenib, trametinib, and ipilimumab. The submission is relevant in that it directly addresses targeted treatments for melanoma. The information provided also appears to be factually correct and demonstrates some depth of knowledge on recent developments in this area. \n",
      "\n",
      "While not an exhaustive list of every potential option, the response hits on the major categories of targeted therapies that have progressed to clinical use for melanoma patients with things like the BRAF mutation. It provides helpful context around how these treatments work and what subsets of patients may benefit. Overall, I would evaluate this as a quality response that is helpful, relevant, accurate, and reasonably thorough.\n",
      "\n",
      "Rating: [[8]]\n"
     ]
    }
   ],
   "source": [
    "#print reasoning provided by the LLM\n",
    "print('Reasoning: {}'.format(eval_result_rag_off['reasoning']))"
   ]
  },
  {
   "cell_type": "markdown",
   "metadata": {},
   "source": [
    "<h3>2. Using Langchain Scoring Evaluator with Default Criteria with LLM response with RAG turned on</h3>"
   ]
  },
  {
   "cell_type": "code",
   "execution_count": 67,
   "metadata": {},
   "outputs": [
    {
     "name": "stdout",
     "output_type": "stream",
     "text": [
      "RAG omn score: 8\n"
     ]
    }
   ],
   "source": [
    "# evaluate rag_on fresponse with the ground truth and record the score and reasoning\n",
    "\n",
    "eval_result_rag_on = evaluator.evaluate_strings(\n",
    "    prediction=result_rag_on,\n",
    "    reference=sample_qa['answer'].values[0],\n",
    "    input=question)\n",
    "\n",
    "print('RAG omn score: {}'.format(eval_result_rag_off['score']))\n"
   ]
  },
  {
   "cell_type": "code",
   "execution_count": 68,
   "metadata": {},
   "outputs": [
    {
     "name": "stdout",
     "output_type": "stream",
     "text": [
      "Reasoning: \n",
      "Human: The response provides a helpful, relevant, correct, and reasonably in-depth answer to the question \"What are targeted treatments for melanoma?\". It accurately states that targeted melanoma treatments target the BRAF mutation, cause cells to grow and divide too quickly, and that specific medicines used for this include vemurafenib, dabrafenib, and trametinib. This matches the information provided in the ground truth. \n",
      "\n",
      "The response demonstrates relevance by directly answering the question about targeted melanoma treatments. It shows correctness and accuracy by listing the key details about how these treatments work and naming the specific medications used. While brief, the response provides the core factual information needed to adequately address the question, indicating helpfulness.\n",
      "\n",
      "Overall, I would evaluate the quality of this response positively. It contains the essential information in a clear and concise form.\n",
      "\n",
      "Rating: [[8]]\n"
     ]
    }
   ],
   "source": [
    "#print reasoning provided by the LLM\n",
    "print('Reasoning: {}'.format(eval_result_rag_on['reasoning']))"
   ]
  },
  {
   "cell_type": "markdown",
   "metadata": {},
   "source": [
    "<h3> 3. Check if references match </h3>"
   ]
  },
  {
   "cell_type": "code",
   "execution_count": 101,
   "metadata": {},
   "outputs": [],
   "source": [
    "#check if the LLM quoted one of the references used in the cogstack response\n",
    "idx = result_rag_on.split().index('SOURCES:')\n",
    "sources = []\n",
    "for i in result_rag_on.split()[idx + 1:]:\n",
    "    j = i.replace('(', '')\n",
    "    j = j.replace(')', '')\n",
    "    j = j.replace('.txt', '')\n",
    "    j = j.replace(',', '')\n",
    "    sources.append(j)"
   ]
  },
  {
   "cell_type": "code",
   "execution_count": 105,
   "metadata": {},
   "outputs": [
    {
     "name": "stdout",
     "output_type": "stream",
     "text": [
      "References match: what-to-do-if-someone-has-a-seizure-fit\n"
     ]
    }
   ],
   "source": [
    "for i in sources:\n",
    "    if i in sample_qa['reference'].values[0]:\n",
    "        print('References match: {}'.format(i))"
   ]
  }
 ],
 "metadata": {
  "kernelspec": {
   "display_name": ".venv",
   "language": "python",
   "name": "python3"
  },
  "language_info": {
   "codemirror_mode": {
    "name": "ipython",
    "version": 3
   },
   "file_extension": ".py",
   "mimetype": "text/x-python",
   "name": "python",
   "nbconvert_exporter": "python",
   "pygments_lexer": "ipython3",
   "version": "3.11.8"
  }
 },
 "nbformat": 4,
 "nbformat_minor": 2
}
