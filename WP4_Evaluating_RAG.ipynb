{
 "cells": [
  {
   "cell_type": "markdown",
   "metadata": {},
   "source": [
    "# WP4: Evaluating RAG\n",
    "\n",
    "* Put the contents of RAG_demo in here, along with any other relevant work - to make a single file people can run\n",
    "* **this will replace the rag_demo.ipynb and model_eval.ipynb files**"
   ]
  },
  {
   "cell_type": "markdown",
   "metadata": {},
   "source": [
    "## Setup\n",
    "\n",
    "incl. Colab Specific Setup"
   ]
  },
  {
   "cell_type": "markdown",
   "metadata": {},
   "source": [
    "# Basic RAG"
   ]
  },
  {
   "cell_type": "markdown",
   "metadata": {},
   "source": [
    "# Loading the Cogstack qns /answers\n",
    "\n",
    "We need this to be not too overwhelming - so consider moving some of the code into `./src`"
   ]
  },
  {
   "cell_type": "markdown",
   "metadata": {},
   "source": [
    "# Examples with RAG on and RAG off"
   ]
  },
  {
   "cell_type": "markdown",
   "metadata": {},
   "source": [
    "# Evaluating the Responses\n",
    "\n",
    "As in the demo.\n",
    "\n",
    "It would be good to make a table which compares findings across \"experiments\"."
   ]
  },
  {
   "cell_type": "markdown",
   "metadata": {},
   "source": [
    "# Timings (think of a better heading!)"
   ]
  },
  {
   "cell_type": "code",
   "execution_count": null,
   "metadata": {},
   "outputs": [],
   "source": []
  }
 ],
 "metadata": {
  "language_info": {
   "name": "python"
  }
 },
 "nbformat": 4,
 "nbformat_minor": 2
}
