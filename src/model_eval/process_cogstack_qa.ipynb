{
 "cells": [
  {
   "cell_type": "code",
   "execution_count": 67,
   "metadata": {},
   "outputs": [],
   "source": [
    "#load in relevent packages\n",
    "import pandas as pd"
   ]
  },
  {
   "cell_type": "code",
   "execution_count": 68,
   "metadata": {},
   "outputs": [],
   "source": [
    "#load in the dataframe\n",
    "df = pd.read_csv('cogstack_qa_data/nhs_uk_full/prepared_generated_data_for_nhs_uk_qa.csv')"
   ]
  },
  {
   "cell_type": "code",
   "execution_count": 69,
   "metadata": {},
   "outputs": [],
   "source": [
    "all_questions = []\n",
    "all_answers = []\n",
    "all_references = []\n",
    "all_references_short = []\n",
    "\n",
    "for text in df['text']:\n",
    "    text = text.split()\n",
    "    #slice text where question starts and ends\n",
    "    start_q_idx = text.index('<|user|>')\n",
    "    end_q_idx = text.index('<|eos|>')\n",
    "\n",
    "    #append question into list of all questions\n",
    "    question = ' '.join(text[start_q_idx + 1 : end_q_idx])\n",
    "    all_questions.append(question)\n",
    "\n",
    "    #slice text where the answer starts and ends\n",
    "    start_a_idx = text.index('<|ai|>')\n",
    "    end_a_idx = text.index('References:')\n",
    "\n",
    "    #append answer into list of all answers\n",
    "    answer = ' '.join(text[start_a_idx + 1 : end_a_idx])\n",
    "    all_answers.append(answer)\n",
    "\n",
    "    #slice text where the reference starts and ends\n",
    "    start_ref_idx = text.index('-')\n",
    "    end_ref_idx = text.index('<|eod|>')\n",
    "\n",
    "    #append answer into list of all answers\n",
    "    reference = ' '.join(text[start_ref_idx + 1 : end_ref_idx - 1])\n",
    "    all_references.append(reference)\n",
    "\n",
    "    #slice refernce page only not entire url\n",
    "    short_ref = reference.split('/')\n",
    "    all_references_short.append(short_ref[4])\n",
    "\n",
    "processed_df = pd.DataFrame({'question':all_questions, 'answer':all_answers, 'reference':all_references, 'short_reference':all_references_short})\n"
   ]
  },
  {
   "cell_type": "code",
   "execution_count": 71,
   "metadata": {},
   "outputs": [],
   "source": [
    "#write output dataframe into csv\n",
    "processed_df.to_csv('cogstack_qa_data_process.csv')"
   ]
  },
  {
   "cell_type": "code",
   "execution_count": null,
   "metadata": {},
   "outputs": [],
   "source": []
  }
 ],
 "metadata": {
  "kernelspec": {
   "display_name": ".venv",
   "language": "python",
   "name": "python3"
  },
  "language_info": {
   "codemirror_mode": {
    "name": "ipython",
    "version": 3
   },
   "file_extension": ".py",
   "mimetype": "text/x-python",
   "name": "python",
   "nbconvert_exporter": "python",
   "pygments_lexer": "ipython3",
   "version": "3.11.8"
  }
 },
 "nbformat": 4,
 "nbformat_minor": 2
}
